{
 "cells": [
  {
   "cell_type": "code",
   "execution_count": 2,
   "metadata": {},
   "outputs": [],
   "source": [
    "from bs4 import BeautifulSoup\n",
    "import requests"
   ]
  },
  {
   "cell_type": "code",
   "execution_count": 4,
   "metadata": {},
   "outputs": [],
   "source": [
    "url = 'https://www.hemnet.se/salda/bostader?item_types%5B%5D=villa&sold_age=12m'\n",
    "page = requests.get(url)\n",
    "soup = BeautifulSoup(page.content, 'html.parser')"
   ]
  },
  {
   "cell_type": "code",
   "execution_count": 5,
   "metadata": {},
   "outputs": [
    {
     "data": {
      "text/plain": [
       "<!DOCTYPE html>\n",
       "\n",
       "<html lang=\"en-US\">\n",
       "<head>\n",
       "<title>Just a moment...</title>\n",
       "<meta content=\"text/html; charset=utf-8\" http-equiv=\"Content-Type\"/>\n",
       "<meta content=\"IE=Edge\" http-equiv=\"X-UA-Compatible\"/>\n",
       "<meta content=\"noindex,nofollow\" name=\"robots\"/>\n",
       "<meta content=\"width=device-width,initial-scale=1\" name=\"viewport\"/>\n",
       "<link href=\"/cdn-cgi/styles/challenges.css\" rel=\"stylesheet\"/>\n",
       "</head>\n",
       "<body class=\"no-js\">\n",
       "<div class=\"main-wrapper\" role=\"main\">\n",
       "<div class=\"main-content\">\n",
       "<h1 class=\"zone-name-title h1\">\n",
       "<img class=\"heading-favicon\" onerror=\"this.onerror=null;this.parentNode.removeChild(this)\" src=\"/favicon.ico\"/>\n",
       "            www.hemnet.se\n",
       "        </h1>\n",
       "<h2 class=\"h2\" id=\"challenge-running\">\n",
       "            Checking if the site connection is secure\n",
       "        </h2>\n",
       "<noscript>\n",
       "<div id=\"challenge-error-title\">\n",
       "<div class=\"h2\">\n",
       "<span class=\"icon-wrapper\">\n",
       "<div class=\"heading-icon warning-icon\"></div>\n",
       "</span>\n",
       "<span id=\"challenge-error-text\">\n",
       "                        Enable JavaScript and cookies to continue\n",
       "                    </span>\n",
       "</div>\n",
       "</div>\n",
       "</noscript>\n",
       "<div id=\"trk_jschal_js\" style=\"display:none;background-image:url('/cdn-cgi/images/trace/captcha/nojs/transparent.gif?ray=77cb47ddfb291d1a')\"></div>\n",
       "<div class=\"core-msg spacer\" id=\"challenge-body-text\">\n",
       "            www.hemnet.se needs to review the security of your connection before proceeding.\n",
       "        </div>\n",
       "<form action=\"/salda/bostader?item_types%5B%5D=villa&amp;sold_age=12m&amp;__cf_chl_f_tk=MBZxzqoBdCo2Ct2ZZLEap1CKVXxMYwgDKoWYY79pUuo-1671569745-0-gaNycGzNByU\" enctype=\"application/x-www-form-urlencoded\" id=\"challenge-form\" method=\"POST\">\n",
       "<input name=\"md\" type=\"hidden\" value=\"Xjkgwcb6vAiSfhdqjNLNmFMRqp.8evDMcL59DxHc9lQ-1671569745-0-AYaZF-ogZGaTTW7VaVE-5yMw7KiCWKR98XE4t24lmGMzHIPDgkH6D2EAmk-n7IWdhr65gTclQORS_tWTWLc05BXlE_b6DU9mp0Zfledw6ooyqnduF1vuKc-e-5UWeV_q-U6Im8A-CJfv3-8AB9fdFKfLyy6Ga5sK4WZdsVr8HmeHO6GfQuqd7CXHgynZoJE6WUA0f8qUabAplgWH1l_VOCbgA_ZypB2f-uyAhn6toUIST--WAD3MfJubBRbj_hbfDIXHSPkdtwd07E0Is5zDhL4shE2wDEpL4nJHslcsRVUH5gckmakAeFk2RUe97qnBiJiWar6KuAw9129mb3KJISHeEShdeYrotX0zcZql25YNuqibSJ97mZFbB3ioxdq_nLGOQtEAT28E_zI_VmciHU04MAuue6XjnsYG7mV2e2Yc8_eC4_7C7kO84KsVVnsV4QyuN5bj1ZTGBSxMfQV6ZKhMQJyqQMv-1Xmm8Pzvvgokjm9_9GGEWH3ClhErd9TbecHdLyl0WtcVg6T0CyA1pKx_KgMGaEdGkXmvq960KzePp5O_roSxinb5-1gqTR_A_EEIZhkHjziA6Ich1JLx8yRTT-GDISukEpVpgo_TriVC8g0J5Jj1wtgCvaey1xZGzUWF-q8R6HyQux-eTgqt6ef4E9sN6UD8o1Rxon2qGdfXEojq9-i3fwHfyXDfZflVZWEjgh_g90bDPPDyGtn9z_SZoABgV2caC52DgZfsNOFUHqfyZThvgfpTFJzXfZEko2MCKQVXIm0cu45xesj8QBQ\"/>\n",
       "<input name=\"r\" type=\"hidden\" value=\"HZvht9XZ_28o_STERaY6rXTTy1e7CgCP7WPDYOu4lLI-1671569745-0-ATsCFFrQBBVh89AIoj8CXbghlEBIDunfGnXsrEQuYlP6UZlWtQuy/4e9ax6Q5i7JV5scvPSSk/3tNK5NwVu/xsXXt3dBLEUaJw4jYeGEZ0Q/saXhYkgFggHrJPX6BeHjPuS5aX4lgIh2x9lohPUvAKeznghgZ0DqCwYnJstCUj0WYjZ7L8V/9qyM3XcXc+yGYQBXCMhVmOFc/VCsm06uUw4PPmklGfFk2PqUgUb/Qt7NpEsOwLDCopvM1kNt1H0kYVAeJbVo2C/4nJhtmjpVIYre+rUUbhZPCxCKlRrFsavp+mBleLE+4fDgO2qWkItvsAmsn9cay1Vq7+NIQvSZ+5SOUjpGxZRHtan/9DmKkSS1v9tZ0XL6yCLFEI/0pXz+nQNekA3xGiSfOHXMSHpADY/TrepXD7kEWhuuaLRoU1+7h9v7dgKFfvki5F+meM1CrDCzFhYdE4vF5wmq0AUmM+brNtA70Kz4brcOV8X2A3sYpNEo9/+q1hPdijeQx23Qc2kNjCTYWl1FAADVqhqMfibVim9KONZ4y6V4zZsHdOiOJ6K+RVDEJDu7vrsnkFHxyGsNcxT6DE7OCeJmyyTBueElWNc6IxYOJs32aFWnIONpiDXck+KM3xs4Nx166cKmwC+it1zyCycB1NLPV7WRwj+Ve4gYx0q9sbm1TA6MWn19+JtIbGv2nU3iCKolpEY4INpLN6eIBmL3JnxXcaKUOBsIZgyvY7zz8MKbxf9DpKLmRq36eiSV9fEueXVUs1FJBD86EY4+6v4pqwdEE7IXJV9oMEEGeEbbkbZ+n4UwgC2694VLqJJG6VSZ4XdHU2GGXM3hqNyUOCbeEbtgBeKE+6JO1jc1sz68itP72yFp+kJqTBkQGdLupcfvCFNjdLSKatWNe/F9UmTEU8IUx1hGzoSFz2fu2+D3dKKgsFsgUrDh2YP9k+xnOzMS/WMoAZqXZb8UR/Ajy3n4SHsRWCdZKw0h/+wf5SzITihN39ZZdHz+Pm+11HGbY9kk+RAmE67lVj2vQtmZflsGKopUnS9MFmUFM7yt6LLxVpBdJM/zOgxKnAWfHNP41mkpl2tkQN/hb64nmmuSth1MyolktkugtSZTEep4j7qjSj1zRCxPYYcDETzb3uPjgRfreP9midbdxkWftXc72CY4HYO4I4yU1tWcvEsGCP0Ru3vNQe4x5y6HYXO9CFulPFk8D2CJatU81lgzWK9C6Yn0r/JZJhKwcsBPO4V0luu5ckWuydppqqAVbfGlD0jRknMyJUqyeLgl3jRYobpx7KAIbKicGlxAjXq44jXnqXWO34n/XizjodSfHemx1wNK7t7/0vn3yg4oCsh5MBgv6Ny1FqYKR0Wkry57Frb6vdN/lHg2YL0GATKo0UA2AkgG9BlYqVcNxXWXzIGggdgXhy7Hid86n/PJSbTqfYs7Po7RkPiuJLQIvBnQD1x9iFDkkS3h9mF3wHHAn2InB/+d1Mlxhr/C2n5uYtP3ra8Timqb0+WWn25IKcbBBxJcD0p4oUITw04hiTh7uknXq9aO6pzY53aTm+MwW/cpmZqg3uiFVmnSoQOPqlyNdxXlSGqEOYyq1pdC1qqXkyNlAVe1KsfvFFMUKZw6QYo9pz/Gi4QoTX+LXVmoB7yyW5+W3qYYRIjZvN39T1YHa2V8BKX0He12GK64B+ezxqH7qL9fV2I3UjrekdpvVbkoieeE6CDX4JBVp8Nys+JXZUijGDYEfFAYgHQrYJ+FqQeKZqwh+8ATtLLU0XglGQab\"/>\n",
       "</form>\n",
       "</div>\n",
       "</div>\n",
       "<script>\n",
       "    (function(){\n",
       "        window._cf_chl_opt={\n",
       "            cvId: '2',\n",
       "            cType: 'interactive',\n",
       "            cNounce: '33354',\n",
       "            cRay: '77cb47ddfb291d1a',\n",
       "            cHash: '2d228ce029e2f56',\n",
       "            cUPMDTk: \"\\/salda\\/bostader?item_types%5B%5D=villa&sold_age=12m&__cf_chl_tk=MBZxzqoBdCo2Ct2ZZLEap1CKVXxMYwgDKoWYY79pUuo-1671569745-0-gaNycGzNByU\",\n",
       "            cFPWv: 'g',\n",
       "            cTTimeMs: '1000',\n",
       "            cTplV: 4,\n",
       "            cTplB: 'cf',\n",
       "            cRq: {\n",
       "                ru: 'aHR0cHM6Ly93d3cuaGVtbmV0LnNlL3NhbGRhL2Jvc3RhZGVyP2l0ZW1fdHlwZXMlNUIlNUQ9dmlsbGEmc29sZF9hZ2U9MTJt',\n",
       "                ra: 'cHl0aG9uLXJlcXVlc3RzLzIuMjguMQ==',\n",
       "                rm: 'R0VU',\n",
       "                d: 'D4klSFtzMsQCceQaYAXQcjgtyiaMgZzcPX6oftd8178otSWbtzh2a+zZaThpaA2/nBZatSmtvjyX+U0FNfeydrf6jatpxvkpbKjccdrJkNEJf2mK740dQcxVMy+mFBecL6lIi1Mje4/St3TWttiCIs3VNs2zOO09qwoy0bp4ShpiJXd4ApDnGg6Xl6MFOTNKcbZZ8TwtjcGslrs+len9Og2x7Y/NofHSRMdZoqdQZjrBIV9uSy3rTisVZTKToV4UKSPb/NHkSPNyZc6u/gxZg9y9mrmJIE25YWiiOeH8YTQqldzRAxzbgbW6aW95iBNWCWrv1sdd9L49U1CVszBD04dK6kT5lmtboPkp/65kbGoJfHQfUzLEAdbhD2+jauLre3wtuQIOFwN+4WEL/feX8D53XBUyJEhnGM0eAlGedDMQ/ZHETj34TYz6ougkk9eAhWL3JlAb4NZXlDhTh7PtiahQhXSEG1m+kf5/S5j2gDP+9s0cZcErMXl65S8rhBUVxlrfftUfkINnxXBQc+TqILpv1l484nftjdCSyUKwVwk0qDuQcs7h6O9oUIJ3IgDhtElHeMHFW6gfjeqoYOTPB1XDDmoOT3IXkw6eXVA6N0I=',\n",
       "                t: 'MTY3MTU2OTc0NS42MDAwMDA=',\n",
       "                m: 'ZNpt7se4OnEXJRwjk7bUjK6azEjWpwDv42+CMNAcwRM=',\n",
       "                i1: 'GMgzHlXtqjn0OzShhl5C9w==',\n",
       "                i2: 'GWtDjUdCh0r1baBdBtj8ow==',\n",
       "                zh: 'IcIuyAKPPCNRDzd6Gu5VvMEmQ/oFw7nKA3O4BPyPAQg=',\n",
       "                uh: 'SLdVolODg++SO356HusO5I/hbfOpiiOxQXj62i/MUkA=',\n",
       "                hh: '07pbPdIBfblVA8qeS075ENMRZ23L/w0s/NOopNz+pno=',\n",
       "            }\n",
       "        };\n",
       "        var trkjs = document.createElement('img');\n",
       "        trkjs.setAttribute('src', '/cdn-cgi/images/trace/captcha/js/transparent.gif?ray=77cb47ddfb291d1a');\n",
       "        trkjs.setAttribute('style', 'display: none');\n",
       "        document.body.appendChild(trkjs);\n",
       "        var cpo = document.createElement('script');\n",
       "        cpo.src = '/cdn-cgi/challenge-platform/h/g/orchestrate/captcha/v1?ray=77cb47ddfb291d1a';\n",
       "        window._cf_chl_opt.cOgUHash = location.hash === '' && location.href.indexOf('#') !== -1 ? '#' : location.hash;\n",
       "        window._cf_chl_opt.cOgUQuery = location.search === '' && location.href.slice(0, -window._cf_chl_opt.cOgUHash.length).indexOf('?') !== -1 ? '?' : location.search;\n",
       "        if (window.history && window.history.replaceState) {\n",
       "            var ogU = location.pathname + window._cf_chl_opt.cOgUQuery + window._cf_chl_opt.cOgUHash;\n",
       "            history.replaceState(null, null, \"\\/salda\\/bostader?item_types%5B%5D=villa&sold_age=12m&__cf_chl_rt_tk=MBZxzqoBdCo2Ct2ZZLEap1CKVXxMYwgDKoWYY79pUuo-1671569745-0-gaNycGzNByU\" + window._cf_chl_opt.cOgUHash);\n",
       "            cpo.onload = function() {\n",
       "                history.replaceState(null, null, ogU);\n",
       "            };\n",
       "        }\n",
       "        document.getElementsByTagName('head')[0].appendChild(cpo);\n",
       "    }());\n",
       "</script>\n",
       "<div class=\"footer\" role=\"contentinfo\">\n",
       "<div class=\"footer-inner\">\n",
       "<div class=\"clearfix diagnostic-wrapper\">\n",
       "<div class=\"ray-id\">Ray ID: <code>77cb47ddfb291d1a</code></div>\n",
       "</div>\n",
       "<div class=\"text-center\">Performance &amp; security by <a href=\"https://www.cloudflare.com?utm_source=challenge&amp;utm_campaign=l\" rel=\"noopener noreferrer\" target=\"_blank\">Cloudflare</a></div>\n",
       "</div>\n",
       "</div>\n",
       "</body>\n",
       "</html>"
      ]
     },
     "execution_count": 5,
     "metadata": {},
     "output_type": "execute_result"
    }
   ],
   "source": [
    "soup"
   ]
  }
 ],
 "metadata": {
  "kernelspec": {
   "display_name": "Python 3",
   "language": "python",
   "name": "python3"
  },
  "language_info": {
   "codemirror_mode": {
    "name": "ipython",
    "version": 3
   },
   "file_extension": ".py",
   "mimetype": "text/x-python",
   "name": "python",
   "nbconvert_exporter": "python",
   "pygments_lexer": "ipython3",
   "version": "3.11.0"
  },
  "orig_nbformat": 4,
  "vscode": {
   "interpreter": {
    "hash": "b680d763c5648c61f2662d8b7e45cb8d98511a099eb47ced1e7beb7b4bf8e8e3"
   }
  }
 },
 "nbformat": 4,
 "nbformat_minor": 2
}
