{
 "cells": [
  {
   "cell_type": "code",
   "execution_count": 1,
   "metadata": {},
   "outputs": [],
   "source": [
    "from bs4 import BeautifulSoup\n",
    "import cloudscraper\n",
    "import pandas as pd\n",
    "import itertools\n",
    "import concurrent.futures\n",
    "import re\n",
    "import json"
   ]
  },
  {
   "cell_type": "code",
   "execution_count": 2,
   "metadata": {},
   "outputs": [],
   "source": [
    "def get_house_links(soup):\n",
    "    \"\"\"Takes the soup of a page and returns a list of links to each house\"\"\"\n",
    "    a_tags = soup.find_all('a',class_='sold-property-link js-sold-property-card-link')\n",
    "    return [tag.get('href') for tag in a_tags]\n",
    "\n",
    "def get_houses_info(links:list[str]):\n",
    "    \"\"\"Takes the link to a house and returns a dictionary with the house properties\"\"\"\n",
    "    scraper = cloudscraper.create_scraper()  # returns a CloudScraper instance\n",
    "\n",
    "    house_properties = []\n",
    "\n",
    "    for link in links:\n",
    "        html = scraper.get(link).content\n",
    "        soup = BeautifulSoup(html, 'html.parser')\n",
    "\n",
    "        data_raw = json.loads(soup.find('div', class_='sold-property__map js-listing-map-sold')['data-initial-data'])\n",
    "\n",
    "        try:\n",
    "            data_parsed = {\n",
    "                \"adress\": f\"{data_raw['listing']['streetAddress']}, {data_raw['listing']['area']}, {data_raw['listing']['municipality']['fullName']}\",\n",
    "                \"longitude\": f\"{data_raw['listing']['coordinate'][0]}\",\n",
    "                \"latitude\": f\"{data_raw['listing']['coordinate'][1]}\",\n",
    "                \"living_area\": f\"{data_raw['listing']['livingArea']}\",\n",
    "                \"land_area\": f\"{data_raw['listing']['landArea']}\",\n",
    "                \"supplemental_area\": f\"{data_raw['listing']['supplementalArea']}\",\n",
    "                \"patio\":'1' if 'Uteplats' in [feature['text'] for feature in data_raw['listing']['labels']] else '0',\n",
    "                \"balcony\":'1' if 'Balkong' in [feature['text'] for feature in data_raw['listing']['labels']] else '0',\n",
    "                \"number_of_rooms\": f\"{data_raw['listing']['numberOfRooms']}\",\n",
    "                \"build_year\": re.sub(r\"^\\s+|\\s+$\", \"\", soup.find(\"dl\", class_=\"sold-property__attributes\").find(\"dt\", text=\"Byggår\").find_next_sibling('dd').text) if soup.find(\"dl\", class_=\"sold-property__attributes\").find(\"dt\", text=\"Byggår\") is not None else 'None',\n",
    "                \"operating cost\":' '.join(re.findall(r'\\d+', soup.find(\"dl\", class_=\"sold-property__attributes\").find(\"dt\", text=\"Driftskostnad\").find_next_sibling('dd').text)) if soup.find(\"dl\", class_=\"sold-property__attributes\").find(\"dt\", text=\"Driftskostnad\") is not None else 'None',\n",
    "                \"sold_price\":' '.join(re.findall(r'\\d+', f\"{data_raw.get('listing', {}).get('sellingPrice', {}).get('formatted', 'None')}\"))\n",
    "            }\n",
    "\n",
    "            house_properties.append(data_parsed)\n",
    "\n",
    "        except Exception:\n",
    "            print(data_raw)\n",
    "\n",
    "    return house_properties\n",
    "    \n"
   ]
  },
  {
   "cell_type": "code",
   "execution_count": 3,
   "metadata": {},
   "outputs": [
    {
     "ename": "TypeError",
     "evalue": "'NoneType' object is not subscriptable",
     "output_type": "error",
     "traceback": [
      "\u001b[1;31m---------------------------------------------------------------------------\u001b[0m",
      "\u001b[1;31mTypeError\u001b[0m                                 Traceback (most recent call last)",
      "Cell \u001b[1;32mIn [3], line 19\u001b[0m\n\u001b[0;32m     16\u001b[0m   \u001b[39mreturn\u001b[39;00m get_houses_info(links)\n\u001b[0;32m     18\u001b[0m \u001b[39mwith\u001b[39;00m concurrent\u001b[39m.\u001b[39mfutures\u001b[39m.\u001b[39mThreadPoolExecutor() \u001b[39mas\u001b[39;00m executor:\n\u001b[1;32m---> 19\u001b[0m     data_pararell\u001b[39m.\u001b[39;49mextend(executor\u001b[39m.\u001b[39;49mmap(process_listing_page, listing_links))\n\u001b[0;32m     21\u001b[0m executor\u001b[39m.\u001b[39mshutdown(wait\u001b[39m=\u001b[39m\u001b[39mTrue\u001b[39;00m)\n\u001b[0;32m     23\u001b[0m flattened_data \u001b[39m=\u001b[39m \u001b[39mlist\u001b[39m(itertools\u001b[39m.\u001b[39mchain\u001b[39m.\u001b[39mfrom_iterable(data_pararell))\n",
      "File \u001b[1;32mc:\\Users\\danjo\\AppData\\Local\\Programs\\Python\\Python311\\Lib\\concurrent\\futures\\_base.py:619\u001b[0m, in \u001b[0;36mExecutor.map.<locals>.result_iterator\u001b[1;34m()\u001b[0m\n\u001b[0;32m    616\u001b[0m \u001b[39mwhile\u001b[39;00m fs:\n\u001b[0;32m    617\u001b[0m     \u001b[39m# Careful not to keep a reference to the popped future\u001b[39;00m\n\u001b[0;32m    618\u001b[0m     \u001b[39mif\u001b[39;00m timeout \u001b[39mis\u001b[39;00m \u001b[39mNone\u001b[39;00m:\n\u001b[1;32m--> 619\u001b[0m         \u001b[39myield\u001b[39;00m _result_or_cancel(fs\u001b[39m.\u001b[39;49mpop())\n\u001b[0;32m    620\u001b[0m     \u001b[39melse\u001b[39;00m:\n\u001b[0;32m    621\u001b[0m         \u001b[39myield\u001b[39;00m _result_or_cancel(fs\u001b[39m.\u001b[39mpop(), end_time \u001b[39m-\u001b[39m time\u001b[39m.\u001b[39mmonotonic())\n",
      "File \u001b[1;32mc:\\Users\\danjo\\AppData\\Local\\Programs\\Python\\Python311\\Lib\\concurrent\\futures\\_base.py:317\u001b[0m, in \u001b[0;36m_result_or_cancel\u001b[1;34m(***failed resolving arguments***)\u001b[0m\n\u001b[0;32m    315\u001b[0m \u001b[39mtry\u001b[39;00m:\n\u001b[0;32m    316\u001b[0m     \u001b[39mtry\u001b[39;00m:\n\u001b[1;32m--> 317\u001b[0m         \u001b[39mreturn\u001b[39;00m fut\u001b[39m.\u001b[39;49mresult(timeout)\n\u001b[0;32m    318\u001b[0m     \u001b[39mfinally\u001b[39;00m:\n\u001b[0;32m    319\u001b[0m         fut\u001b[39m.\u001b[39mcancel()\n",
      "File \u001b[1;32mc:\\Users\\danjo\\AppData\\Local\\Programs\\Python\\Python311\\Lib\\concurrent\\futures\\_base.py:449\u001b[0m, in \u001b[0;36mFuture.result\u001b[1;34m(self, timeout)\u001b[0m\n\u001b[0;32m    447\u001b[0m     \u001b[39mraise\u001b[39;00m CancelledError()\n\u001b[0;32m    448\u001b[0m \u001b[39melif\u001b[39;00m \u001b[39mself\u001b[39m\u001b[39m.\u001b[39m_state \u001b[39m==\u001b[39m FINISHED:\n\u001b[1;32m--> 449\u001b[0m     \u001b[39mreturn\u001b[39;00m \u001b[39mself\u001b[39;49m\u001b[39m.\u001b[39;49m__get_result()\n\u001b[0;32m    451\u001b[0m \u001b[39mself\u001b[39m\u001b[39m.\u001b[39m_condition\u001b[39m.\u001b[39mwait(timeout)\n\u001b[0;32m    453\u001b[0m \u001b[39mif\u001b[39;00m \u001b[39mself\u001b[39m\u001b[39m.\u001b[39m_state \u001b[39min\u001b[39;00m [CANCELLED, CANCELLED_AND_NOTIFIED]:\n",
      "File \u001b[1;32mc:\\Users\\danjo\\AppData\\Local\\Programs\\Python\\Python311\\Lib\\concurrent\\futures\\_base.py:401\u001b[0m, in \u001b[0;36mFuture.__get_result\u001b[1;34m(self)\u001b[0m\n\u001b[0;32m    399\u001b[0m \u001b[39mif\u001b[39;00m \u001b[39mself\u001b[39m\u001b[39m.\u001b[39m_exception:\n\u001b[0;32m    400\u001b[0m     \u001b[39mtry\u001b[39;00m:\n\u001b[1;32m--> 401\u001b[0m         \u001b[39mraise\u001b[39;00m \u001b[39mself\u001b[39m\u001b[39m.\u001b[39m_exception\n\u001b[0;32m    402\u001b[0m     \u001b[39mfinally\u001b[39;00m:\n\u001b[0;32m    403\u001b[0m         \u001b[39m# Break a reference cycle with the exception in self._exception\u001b[39;00m\n\u001b[0;32m    404\u001b[0m         \u001b[39mself\u001b[39m \u001b[39m=\u001b[39m \u001b[39mNone\u001b[39;00m\n",
      "File \u001b[1;32mc:\\Users\\danjo\\AppData\\Local\\Programs\\Python\\Python311\\Lib\\concurrent\\futures\\thread.py:58\u001b[0m, in \u001b[0;36m_WorkItem.run\u001b[1;34m(self)\u001b[0m\n\u001b[0;32m     55\u001b[0m     \u001b[39mreturn\u001b[39;00m\n\u001b[0;32m     57\u001b[0m \u001b[39mtry\u001b[39;00m:\n\u001b[1;32m---> 58\u001b[0m     result \u001b[39m=\u001b[39m \u001b[39mself\u001b[39;49m\u001b[39m.\u001b[39;49mfn(\u001b[39m*\u001b[39;49m\u001b[39mself\u001b[39;49m\u001b[39m.\u001b[39;49margs, \u001b[39m*\u001b[39;49m\u001b[39m*\u001b[39;49m\u001b[39mself\u001b[39;49m\u001b[39m.\u001b[39;49mkwargs)\n\u001b[0;32m     59\u001b[0m \u001b[39mexcept\u001b[39;00m \u001b[39mBaseException\u001b[39;00m \u001b[39mas\u001b[39;00m exc:\n\u001b[0;32m     60\u001b[0m     \u001b[39mself\u001b[39m\u001b[39m.\u001b[39mfuture\u001b[39m.\u001b[39mset_exception(exc)\n",
      "Cell \u001b[1;32mIn [3], line 16\u001b[0m, in \u001b[0;36mprocess_listing_page\u001b[1;34m(listing_page)\u001b[0m\n\u001b[0;32m     12\u001b[0m soup \u001b[39m=\u001b[39m BeautifulSoup(html, \u001b[39m'\u001b[39m\u001b[39mhtml.parser\u001b[39m\u001b[39m'\u001b[39m)\n\u001b[0;32m     14\u001b[0m links \u001b[39m=\u001b[39m get_house_links(soup)\n\u001b[1;32m---> 16\u001b[0m \u001b[39mreturn\u001b[39;00m get_houses_info(links)\n",
      "Cell \u001b[1;32mIn [2], line 16\u001b[0m, in \u001b[0;36mget_houses_info\u001b[1;34m(links)\u001b[0m\n\u001b[0;32m     13\u001b[0m html \u001b[39m=\u001b[39m scraper\u001b[39m.\u001b[39mget(link)\u001b[39m.\u001b[39mcontent\n\u001b[0;32m     14\u001b[0m soup \u001b[39m=\u001b[39m BeautifulSoup(html, \u001b[39m'\u001b[39m\u001b[39mhtml.parser\u001b[39m\u001b[39m'\u001b[39m)\n\u001b[1;32m---> 16\u001b[0m data_raw \u001b[39m=\u001b[39m json\u001b[39m.\u001b[39mloads(soup\u001b[39m.\u001b[39;49mfind(\u001b[39m'\u001b[39;49m\u001b[39mdiv\u001b[39;49m\u001b[39m'\u001b[39;49m, class_\u001b[39m=\u001b[39;49m\u001b[39m'\u001b[39;49m\u001b[39msold-property__map js-listing-map-sold\u001b[39;49m\u001b[39m'\u001b[39;49m)[\u001b[39m'\u001b[39;49m\u001b[39mdata-initial-data\u001b[39;49m\u001b[39m'\u001b[39;49m])\n\u001b[0;32m     18\u001b[0m \u001b[39mtry\u001b[39;00m:\n\u001b[0;32m     19\u001b[0m     data_parsed \u001b[39m=\u001b[39m {\n\u001b[0;32m     20\u001b[0m         \u001b[39m\"\u001b[39m\u001b[39madress\u001b[39m\u001b[39m\"\u001b[39m: \u001b[39mf\u001b[39m\u001b[39m\"\u001b[39m\u001b[39m{\u001b[39;00mdata_raw[\u001b[39m'\u001b[39m\u001b[39mlisting\u001b[39m\u001b[39m'\u001b[39m][\u001b[39m'\u001b[39m\u001b[39mstreetAddress\u001b[39m\u001b[39m'\u001b[39m]\u001b[39m}\u001b[39;00m\u001b[39m, \u001b[39m\u001b[39m{\u001b[39;00mdata_raw[\u001b[39m'\u001b[39m\u001b[39mlisting\u001b[39m\u001b[39m'\u001b[39m][\u001b[39m'\u001b[39m\u001b[39marea\u001b[39m\u001b[39m'\u001b[39m]\u001b[39m}\u001b[39;00m\u001b[39m, \u001b[39m\u001b[39m{\u001b[39;00mdata_raw[\u001b[39m'\u001b[39m\u001b[39mlisting\u001b[39m\u001b[39m'\u001b[39m][\u001b[39m'\u001b[39m\u001b[39mmunicipality\u001b[39m\u001b[39m'\u001b[39m][\u001b[39m'\u001b[39m\u001b[39mfullName\u001b[39m\u001b[39m'\u001b[39m]\u001b[39m}\u001b[39;00m\u001b[39m\"\u001b[39m,\n\u001b[0;32m     21\u001b[0m         \u001b[39m\"\u001b[39m\u001b[39mlongitude\u001b[39m\u001b[39m\"\u001b[39m: \u001b[39mf\u001b[39m\u001b[39m\"\u001b[39m\u001b[39m{\u001b[39;00mdata_raw[\u001b[39m'\u001b[39m\u001b[39mlisting\u001b[39m\u001b[39m'\u001b[39m][\u001b[39m'\u001b[39m\u001b[39mcoordinate\u001b[39m\u001b[39m'\u001b[39m][\u001b[39m0\u001b[39m]\u001b[39m}\u001b[39;00m\u001b[39m\"\u001b[39m,\n\u001b[1;32m   (...)\u001b[0m\n\u001b[0;32m     31\u001b[0m         \u001b[39m\"\u001b[39m\u001b[39msold_price\u001b[39m\u001b[39m\"\u001b[39m:\u001b[39m'\u001b[39m\u001b[39m \u001b[39m\u001b[39m'\u001b[39m\u001b[39m.\u001b[39mjoin(re\u001b[39m.\u001b[39mfindall(\u001b[39mr\u001b[39m\u001b[39m'\u001b[39m\u001b[39m\\\u001b[39m\u001b[39md+\u001b[39m\u001b[39m'\u001b[39m, \u001b[39mf\u001b[39m\u001b[39m\"\u001b[39m\u001b[39m{\u001b[39;00mdata_raw\u001b[39m.\u001b[39mget(\u001b[39m'\u001b[39m\u001b[39mlisting\u001b[39m\u001b[39m'\u001b[39m, {})\u001b[39m.\u001b[39mget(\u001b[39m'\u001b[39m\u001b[39msellingPrice\u001b[39m\u001b[39m'\u001b[39m, {})\u001b[39m.\u001b[39mget(\u001b[39m'\u001b[39m\u001b[39mformatted\u001b[39m\u001b[39m'\u001b[39m, \u001b[39m'\u001b[39m\u001b[39mNone\u001b[39m\u001b[39m'\u001b[39m)\u001b[39m}\u001b[39;00m\u001b[39m\"\u001b[39m))\n\u001b[0;32m     32\u001b[0m     }\n",
      "\u001b[1;31mTypeError\u001b[0m: 'NoneType' object is not subscriptable"
     ]
    }
   ],
   "source": [
    "scraper = cloudscraper.create_scraper()  # returns a CloudScraper instance\n",
    "\n",
    "listing_links = [\n",
    "    f\"https://www.hemnet.se/salda/bostader?item_types%5B%5D=villa&page={page}&sold_age=12m\"\n",
    "    for page in range(1, 51)\n",
    "]\n",
    "\n",
    "data_pararell = []\n",
    "\n",
    "def process_listing_page(listing_page):\n",
    "  html = scraper.get(listing_page).content\n",
    "  soup = BeautifulSoup(html, 'html.parser')\n",
    "\n",
    "  links = get_house_links(soup)\n",
    "\n",
    "  return get_houses_info(links)\n",
    "\n",
    "with concurrent.futures.ThreadPoolExecutor() as executor:\n",
    "    data_pararell.extend(executor.map(process_listing_page, listing_links))\n",
    "    \n",
    "executor.shutdown(wait=True)\n",
    "\n",
    "flattened_data = list(itertools.chain.from_iterable(data_pararell))\n"
   ]
  },
  {
   "cell_type": "code",
   "execution_count": null,
   "metadata": {},
   "outputs": [],
   "source": [
    "# convert the data to a Pandas DataFrame\n",
    "df = pd.DataFrame(flattened_data)\n",
    "\n",
    "# write the DataFrame to a CSV file\n",
    "df.to_csv('data.csv', index=False)"
   ]
  },
  {
   "cell_type": "code",
   "execution_count": null,
   "metadata": {},
   "outputs": [
    {
     "ename": "AttributeError",
     "evalue": "'NoneType' object has no attribute 'get'",
     "output_type": "error",
     "traceback": [
      "\u001b[1;31m---------------------------------------------------------------------------\u001b[0m",
      "\u001b[1;31mAttributeError\u001b[0m                            Traceback (most recent call last)",
      "Cell \u001b[1;32mIn [9], line 2\u001b[0m\n\u001b[0;32m      1\u001b[0m A \u001b[39m=\u001b[39m \u001b[39mNone\u001b[39;00m\n\u001b[1;32m----> 2\u001b[0m A\u001b[39m.\u001b[39;49mget(\u001b[39m'\u001b[39m\u001b[39ma\u001b[39m\u001b[39m'\u001b[39m, \u001b[39mNone\u001b[39;00m)\n",
      "\u001b[1;31mAttributeError\u001b[0m: 'NoneType' object has no attribute 'get'"
     ]
    }
   ],
   "source": [
    "A = None\n",
    "A.get('a', None)"
   ]
  }
 ],
 "metadata": {
  "kernelspec": {
   "display_name": "Python 3",
   "language": "python",
   "name": "python3"
  },
  "language_info": {
   "codemirror_mode": {
    "name": "ipython",
    "version": 3
   },
   "file_extension": ".py",
   "mimetype": "text/x-python",
   "name": "python",
   "nbconvert_exporter": "python",
   "pygments_lexer": "ipython3",
   "version": "3.11.0"
  },
  "orig_nbformat": 4,
  "vscode": {
   "interpreter": {
    "hash": "b680d763c5648c61f2662d8b7e45cb8d98511a099eb47ced1e7beb7b4bf8e8e3"
   }
  }
 },
 "nbformat": 4,
 "nbformat_minor": 2
}
