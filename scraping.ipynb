{
 "cells": [
  {
   "cell_type": "code",
   "execution_count": 22,
   "metadata": {},
   "outputs": [],
   "source": [
    "from bs4 import BeautifulSoup\n",
    "import cloudscraper\n",
    "from geopy.geocoders import Nominatim\n",
    "from geopy.extra.rate_limiter import RateLimiter\n",
    "import pandas as pd"
   ]
  },
  {
   "cell_type": "code",
   "execution_count": 17,
   "metadata": {},
   "outputs": [],
   "source": [
    "scraper = cloudscraper.create_scraper()  # returns a CloudScraper instance\n",
    "html = scraper.get(\"https://www.hemnet.se/salda/bostader?item_types%5B%5D=villa&page=1&sold_age=12m\").content\n",
    "soup = BeautifulSoup(html, 'html.parser')"
   ]
  },
  {
   "cell_type": "code",
   "execution_count": 11,
   "metadata": {},
   "outputs": [],
   "source": [
    "def get_house_links(soup):\n",
    "    \"\"\"Takes the soup of a page and returns a list of links to each house\"\"\"\n",
    "    a_tags = soup.find_all('a',class_='sold-property-link js-sold-property-card-link')\n",
    "    return [tag.get('href') for tag in a_tags]\n",
    "\n",
    "def get_houses_info(link:list[str]):\n",
    "    \"\"\"Takes the link to a house and returns a dictionary with the house properties\"\"\"\n",
    "    \n",
    "    \n"
   ]
  },
  {
   "cell_type": "code",
   "execution_count": null,
   "metadata": {},
   "outputs": [],
   "source": [
    "scraper_houses = cloudscraper.create_scraper()  # returns a CloudScraper instance\n",
    "links = ['hemnet.se/salda/villa-5rum-solbacken-malmo-kommun-vilebovagen-22a-207996096575631945']\n",
    "html = scraper.get(links).content\n",
    "soup = BeautifulSoup(html, 'html.parser')\n",
    "\n",
    "\n"
   ]
  },
  {
   "cell_type": "code",
   "execution_count": 21,
   "metadata": {},
   "outputs": [
    {
     "name": "stdout",
     "output_type": "stream",
     "text": [
      "(57.7079695, 12.8036417)\n"
     ]
    }
   ],
   "source": [
    "\n",
    "\n",
    "def get_coordinates(addresses:list[str]):\n",
    "    geolocator = Nominatim(user_agent=\"House_price_prediction\")\n",
    "    geocode = RateLimiter(geolocator.geocode, min_delay_seconds=1)\n",
    "    \n",
    "    locations = []\n",
    "    \n",
    "    for address in addresses:\n",
    "        location = geolocator.geocode(address)\n",
    "        locations.append((location.latitude, location.longitude))\n",
    "\n"
   ]
  }
 ],
 "metadata": {
  "kernelspec": {
   "display_name": "Python 3",
   "language": "python",
   "name": "python3"
  },
  "language_info": {
   "codemirror_mode": {
    "name": "ipython",
    "version": 3
   },
   "file_extension": ".py",
   "mimetype": "text/x-python",
   "name": "python",
   "nbconvert_exporter": "python",
   "pygments_lexer": "ipython3",
   "version": "3.11.0"
  },
  "orig_nbformat": 4,
  "vscode": {
   "interpreter": {
    "hash": "b680d763c5648c61f2662d8b7e45cb8d98511a099eb47ced1e7beb7b4bf8e8e3"
   }
  }
 },
 "nbformat": 4,
 "nbformat_minor": 2
}
