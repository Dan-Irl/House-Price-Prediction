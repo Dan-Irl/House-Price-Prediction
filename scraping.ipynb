{
 "cells": [
  {
   "cell_type": "code",
   "execution_count": 32,
   "metadata": {},
   "outputs": [],
   "source": [
    "from bs4 import BeautifulSoup\n",
    "import cloudscraper\n",
    "from geopy.geocoders import Nominatim\n",
    "from geopy.extra.rate_limiter import RateLimiter\n",
    "import pandas as pd\n",
    "import re"
   ]
  },
  {
   "cell_type": "code",
   "execution_count": 17,
   "metadata": {},
   "outputs": [],
   "source": [
    "scraper = cloudscraper.create_scraper()  # returns a CloudScraper instance\n",
    "html = scraper.get(\"https://www.hemnet.se/salda/bostader?item_types%5B%5D=villa&page=1&sold_age=12m\").content\n",
    "soup = BeautifulSoup(html, 'html.parser')"
   ]
  },
  {
   "cell_type": "code",
   "execution_count": 11,
   "metadata": {},
   "outputs": [],
   "source": [
    "def get_house_links(soup):\n",
    "    \"\"\"Takes the soup of a page and returns a list of links to each house\"\"\"\n",
    "    a_tags = soup.find_all('a',class_='sold-property-link js-sold-property-card-link')\n",
    "    return [tag.get('href') for tag in a_tags]\n",
    "\n",
    "def get_houses_info(links:list[str]):\n",
    "    \"\"\"Takes the link to a house and returns a dictionary with the house properties\"\"\"\n",
    "    scraper = cloudscraper.create_scraper()  # returns a CloudScraper instance\n",
    "    \n",
    "    house_properties = []\n",
    "    \n",
    "    for link in links:\n",
    "        html = scraper.get(link).content\n",
    "        soup = BeautifulSoup(html, 'html.parser')\n",
    "        \n",
    "    \n"
   ]
  },
  {
   "cell_type": "code",
   "execution_count": 66,
   "metadata": {},
   "outputs": [],
   "source": [
    "scraper_houses = cloudscraper.create_scraper()  # returns a CloudScraper instance\n",
    "link = 'https://www.hemnet.se/salda/villa-6rum-alvsborg-goteborgs-kommun-pramgatan-7c-2628947802481352792'\n",
    "html = scraper_houses.get(link).content\n",
    "soup = BeautifulSoup(html, 'html.parser')\n",
    "\n",
    "\n"
   ]
  },
  {
   "cell_type": "code",
   "execution_count": 26,
   "metadata": {},
   "outputs": [
    {
     "data": {
      "text/plain": [
       "'  Pråmgatan 7C'"
      ]
     },
     "execution_count": 26,
     "metadata": {},
     "output_type": "execute_result"
    }
   ],
   "source": [
    "adress_unparsed = soup.find('h1',class_= 'hcl-heading hcl-heading--size1')\n",
    "tag_to_remove = adress_unparsed.find('span',class_='sold-property__address-prefix')\n",
    "tag_to_remove.decompose()\n",
    "text = adress_unparsed.text.split('\\n')\n",
    "address = ' '.join([x for x in text if x])\n",
    "\n"
   ]
  },
  {
   "cell_type": "code",
   "execution_count": 67,
   "metadata": {},
   "outputs": [
    {
     "name": "stdout",
     "output_type": "stream",
     "text": [
      "Pråmgatan 7C, Älvsborg, Göteborgs kommun\n"
     ]
    }
   ],
   "source": [
    "adress_header_unparsed = soup.find('h1',class_= 'hcl-heading hcl-heading--size1')\n",
    "adress_header_text = adress_unparsed.get_text()\n",
    "adress_text_prefix = re.sub(r'\\s+', ' ', adress_header_text)\n",
    "adress_text_prefix = adress_text_prefix.strip()\n",
    "\n",
    "adress_metadata_unparsed = soup.find('p',class_= 'sold-property__metadata qa-sold-property-metadata')\n",
    "adress_metadata_unparsed.find('span',class_= 'property-icon property__description-icon').decompose()\n",
    "adress_metadata_unparsed.find('time').decompose()\n",
    "adress_metadata_text = adress_metadata_unparsed.get_text()\n",
    "adress_metadata_text = re.sub(r'\\s+', ' ', adress_metadata_text)\n",
    "adress_metadata_text = re.search(r' - (.*?) - ', adress_metadata_text)\n",
    "\n",
    "\n",
    "adress_text = f'{adress_text_prefix}, {adress_metadata_text.group(1)}' # gets the whole adress for a house\n",
    "\n",
    "\n"
   ]
  },
  {
   "cell_type": "code",
   "execution_count": 21,
   "metadata": {},
   "outputs": [
    {
     "name": "stdout",
     "output_type": "stream",
     "text": [
      "(57.7079695, 12.8036417)\n"
     ]
    }
   ],
   "source": [
    "\n",
    "\n",
    "def get_coordinates(addresses:list[str]):\n",
    "    geolocator = Nominatim(user_agent=\"House_price_prediction\")\n",
    "    geocode = RateLimiter(geolocator.geocode, min_delay_seconds=1)\n",
    "    \n",
    "    locations = []\n",
    "    \n",
    "    for address in addresses:\n",
    "        location = geolocator.geocode(address)\n",
    "        locations.append((location.latitude, location.longitude))\n",
    "\n"
   ]
  }
 ],
 "metadata": {
  "kernelspec": {
   "display_name": "Python 3",
   "language": "python",
   "name": "python3"
  },
  "language_info": {
   "codemirror_mode": {
    "name": "ipython",
    "version": 3
   },
   "file_extension": ".py",
   "mimetype": "text/x-python",
   "name": "python",
   "nbconvert_exporter": "python",
   "pygments_lexer": "ipython3",
   "version": "3.11.0"
  },
  "orig_nbformat": 4,
  "vscode": {
   "interpreter": {
    "hash": "b680d763c5648c61f2662d8b7e45cb8d98511a099eb47ced1e7beb7b4bf8e8e3"
   }
  }
 },
 "nbformat": 4,
 "nbformat_minor": 2
}
